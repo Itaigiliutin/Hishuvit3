{
  "cells": [
    {
      "cell_type": "markdown",
      "metadata": {
        "id": "view-in-github",
        "colab_type": "text"
      },
      "source": [
        "<a href=\"https://colab.research.google.com/github/Itaigiliutin/Hishuvit3/blob/main/part2.ipynb\" target=\"_parent\"><img src=\"https://colab.research.google.com/assets/colab-badge.svg\" alt=\"Open In Colab\"/></a>"
      ]
    },
    {
      "cell_type": "markdown",
      "metadata": {
        "id": "cepFW7GpT3nK"
      },
      "source": [
        "# Set-up"
      ]
    },
    {
      "cell_type": "code",
      "execution_count": null,
      "metadata": {
        "id": "i11Wt0wITajQ",
        "trusted": true
      },
      "outputs": [],
      "source": [
        "import numpy as np\n",
        "from tensorflow import keras\n",
        "from tensorflow.keras import layers\n",
        "import tensorflow as tf\n",
        "import tensorflow_hub as hub\n",
        "import tensorflow_datasets as tfds\n",
        "\n",
        "from tensorflow.keras.applications import NASNetMobile\n",
        "from tensorflow.keras.applications import VGG19\n",
        "\n",
        "import matplotlib.pyplot as plt\n",
        "import numpy as np"
      ]
    },
    {
      "cell_type": "code",
      "execution_count": null,
      "metadata": {
        "id": "mqHRE2Q-FNka",
        "trusted": true
      },
      "outputs": [],
      "source": [
        "\n",
        "IMAG_SIZE = 224 # All images will be resized to 224x224\n",
        "def normalize_img(image, label):\n",
        "  image = tf.cast(image, tf.float32)\n",
        "  image = (image/127.5) - 1\n",
        "  image = tf.image.resize(image, (IMAG_SIZE, IMAG_SIZE))\n",
        "  return  image, label"
      ]
    },
    {
      "cell_type": "code",
      "execution_count": null,
      "metadata": {
        "id": "UYDO_RaVY-fA",
        "trusted": true
      },
      "outputs": [],
      "source": [
        "(raw_train, raw_validation, raw_test), metadata = tfds.load(\n",
        "    name=\"oxford_flowers102\",\n",
        "    split=['train', 'validation', 'test'],\n",
        "    with_info=True,\n",
        "    as_supervised=True,\n",
        "    batch_size=32\n",
        ")\n",
        "\n",
        "train = raw_train.map(normalize_img)\n",
        "#train = tfds.as_dataframe(raw_train.take(5),metadata)\n",
        "validation = raw_validation.map(normalize_img)\n",
        "test = raw_test.map(normalize_img)"
      ]
    },
    {
      "cell_type": "code",
      "source": [
        "data = tf.data.TFRecordDataset(\"oxford_flowers102\")"
      ],
      "metadata": {
        "id": "gU-K4hQvNTX5"
      },
      "execution_count": null,
      "outputs": []
    },
    {
      "cell_type": "code",
      "source": [
        "input_shape = (224,224,3)\n",
        "pixels = 224"
      ],
      "metadata": {
        "id": "Ir0rV0ABNHBO"
      },
      "execution_count": null,
      "outputs": []
    },
    {
      "cell_type": "code",
      "source": [
        "BATCH_SIZE = 16\n",
        "EPOCHS = 20\n",
        "\n",
        "steps_per_epoch = metadata.splits[\"train\"].num_examples / BATCH_SIZE \n",
        "validation_steps = metadata.splits[\"validation\"].num_examples / BATCH_SIZE\n",
        "\n",
        "# Unbatch datasets to avoid batch mismatch\n",
        "train = train.unbatch().batch(BATCH_SIZE,drop_remainder=True).repeat().shuffle(512)\n",
        "validation = validation.unbatch().batch(BATCH_SIZE,drop_remainder=True).repeat()"
      ],
      "metadata": {
        "id": "k2HOfgdBNTVv"
      },
      "execution_count": null,
      "outputs": []
    },
    {
      "cell_type": "markdown",
      "metadata": {
        "id": "eiyQD6TcY7aQ"
      },
      "source": [
        "# Model Training"
      ]
    },
    {
      "cell_type": "markdown",
      "source": [
        "## MobileNet"
      ],
      "metadata": {
        "id": "VTPMOdGfLlm8"
      }
    },
    {
      "cell_type": "code",
      "execution_count": null,
      "metadata": {
        "id": "_6c3nV0PVXOU",
        "trusted": true
      },
      "outputs": [],
      "source": [
        "mobileNet_accuracy = 0\n",
        "for alpha in np.linspace(10,40,10):\n",
        "  mobileNet_model_alpha = tf.keras.Sequential([\n",
        "      hub.KerasLayer(\"https://tfhub.dev/google/imagenet/mobilenet_v3_small_100_224/feature_vector/5\", trainable=True),\n",
        "      tf.keras.layers.Dropout(rate=(alpha/100)),\n",
        "      tf.keras.layers.Dense(units=metadata.features[\"label\"].num_classes)\n",
        "  ])\n",
        "\n",
        "  mobileNet_model_alpha.build((None,pixels, pixels,3))\n",
        "  mobileNet_model_alpha.summary()\n",
        "\n",
        "  mobileNet_model_alpha.compile(\n",
        "    optimizer=tf.keras.optimizers.Adam(learning_rate=.5e-3), \n",
        "    loss=tf.keras.losses.SparseCategoricalCrossentropy(from_logits=True),\n",
        "    metrics=['accuracy'])\n",
        "\n",
        "  history_alpha = mobileNet_model_alpha.fit(\n",
        "      x=train,\n",
        "      epochs=EPOCHS, \n",
        "      steps_per_epoch=steps_per_epoch,\n",
        "      validation_data=validation,\n",
        "      validation_steps=validation_steps,\n",
        "      verbose=2)\n",
        "  \n",
        "  score_alpha = mobileNet_model_alpha.evaluate(x=test)\n",
        "  accuracy_alpha = score_alpha[1]\n",
        "  if(accuracy_alpha > mobileNet_accuracy):\n",
        "    (mobileNet_model, mobileNet_history, mobileNet_score, mobileNet_accuracy) = (mobileNet_model_alpha, history_alpha, score_alpha, accuracy_alpha) "
      ]
    },
    {
      "cell_type": "code",
      "source": [
        "print(\"loss:\", mobileNet_score[0])\n",
        "print(\"accuracy:\", mobileNet_score[1])"
      ],
      "metadata": {
        "id": "ow9DfXJ1TKn8"
      },
      "execution_count": null,
      "outputs": []
    },
    {
      "cell_type": "markdown",
      "source": [
        "## nasNet"
      ],
      "metadata": {
        "id": "sjdfjNfAMytB"
      }
    },
    {
      "cell_type": "code",
      "source": [
        "model = NASNetMobile(include_top = False, pooling = 'avg', weights = 'imagenet',input_shape=input_shape)\n",
        "size = len(model.layers)\n",
        "for idx,layer in enumerate(model.layers):\n",
        "  if idx < size/2:\n",
        "    layer.trainable = False\n",
        "  else:\n",
        "    layer.trainable = True\n",
        "nasNet_model = keras.Sequential([\n",
        "    model,\n",
        "    tf.keras.layers.Dropout(rate=0.25),\n",
        "    tf.keras.layers.Dense(units=metadata.features[\"label\"].num_classes)\n",
        "])\n",
        "nasNet_model.build((None,pixels, pixels,3))\n",
        "print(nasNet_model.summary())"
      ],
      "metadata": {
        "id": "lxjCBhZRNPuS"
      },
      "execution_count": null,
      "outputs": []
    },
    {
      "cell_type": "code",
      "execution_count": null,
      "metadata": {
        "trusted": true,
        "id": "CYD8YxPFEsoL"
      },
      "outputs": [],
      "source": [
        "nasNet_model.compile(\n",
        "    optimizer=tf.keras.optimizers.Adam(learning_rate=.5e-3),\n",
        "    loss=tf.keras.losses.SparseCategoricalCrossentropy(from_logits=True), \n",
        "    metrics=[\"accuracy\"])\n",
        "\n",
        "history = nasNet_model.fit(\n",
        "    x=train,\n",
        "    epochs=EPOCHS, \n",
        "    steps_per_epoch=steps_per_epoch,\n",
        "    validation_data=validation,\n",
        "    validation_steps=validation_steps,\n",
        "    verbose=2)\n",
        "\n",
        "nasNet_scores = nasNet_model.evaluate(x=test, verbose=0)\n",
        "print(\"loss:\", nasNet_scores[0])\n",
        "print(\"accuracy:\", nasNet_scores[1])"
      ]
    }
  ],
  "metadata": {
    "kernelspec": {
      "display_name": "Python 3",
      "language": "python",
      "name": "python3"
    },
    "language_info": {
      "codemirror_mode": {
        "name": "ipython",
        "version": 3
      },
      "file_extension": ".py",
      "mimetype": "text/x-python",
      "name": "python",
      "nbconvert_exporter": "python",
      "pygments_lexer": "ipython3",
      "version": "3.6.4"
    },
    "colab": {
      "name": "Part-2.ipynb",
      "provenance": [],
      "collapsed_sections": [
        "VTPMOdGfLlm8",
        "sjdfjNfAMytB"
      ],
      "include_colab_link": true
    }
  },
  "nbformat": 4,
  "nbformat_minor": 0
}